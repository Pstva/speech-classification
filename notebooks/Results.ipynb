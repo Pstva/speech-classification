{
 "cells": [
  {
   "cell_type": "markdown",
   "source": [
    "# Анализ результатов\n",
    "\n",
    "Загрузим два тестовых датасета - без шума и с возможным шумом."
   ],
   "metadata": {
    "collapsed": false
   }
  },
  {
   "cell_type": "code",
   "execution_count": 1,
   "outputs": [],
   "source": [
    "import pandas as pd\n",
    "import pickle\n",
    "from sklearn.metrics import classification_report\n",
    "import numpy as np"
   ],
   "metadata": {
    "collapsed": false
   }
  },
  {
   "cell_type": "code",
   "execution_count": 2,
   "outputs": [],
   "source": [
    "speakers = pd.read_csv('../data/dev-clean/LibriTTS/speakers.tsv',\n",
    "                       skiprows=[0],\n",
    "                       header=None,\n",
    "                       sep='\\t')\n",
    "speakers.columns = ['id', 'gender', 'subset', 'name']"
   ],
   "metadata": {
    "collapsed": false
   }
  },
  {
   "cell_type": "code",
   "execution_count": 3,
   "outputs": [],
   "source": [
    "test_clean_path = '../data/test-clean/LibriTTS/test-clean'\n",
    "test_other_path = '../data/test-other/LibriTTS/test-other'"
   ],
   "metadata": {
    "collapsed": false
   }
  },
  {
   "cell_type": "markdown",
   "source": [
    "### SVM"
   ],
   "metadata": {
    "collapsed": false
   }
  },
  {
   "cell_type": "code",
   "execution_count": 4,
   "outputs": [],
   "source": [
    "from src.data import *"
   ],
   "metadata": {
    "collapsed": false
   }
  },
  {
   "cell_type": "code",
   "execution_count": 5,
   "outputs": [],
   "source": [
    "test_clean_files = dataset_wav_paths(test_clean_path)\n",
    "test_other_files = dataset_wav_paths(test_other_path)"
   ],
   "metadata": {
    "collapsed": false
   }
  },
  {
   "cell_type": "code",
   "execution_count": 6,
   "outputs": [
    {
     "name": "stderr",
     "output_type": "stream",
     "text": [
      "100%|██████████| 39/39 [00:27<00:00,  1.41it/s]\n",
      "100%|██████████| 33/33 [00:27<00:00,  1.21it/s]\n"
     ]
    }
   ],
   "source": [
    "label2idx = {'M': 0, 'F': 1}\n",
    "\n",
    "# preparing test-clean\n",
    "X_clean, y_clean, ids = data_features(test_clean_files, speakers, max_files_per_speaker=None,\n",
    "                                                sr=24000, max_sig_duration=2)\n",
    "X_clean = np.stack([x.flatten() for x in X_clean], axis=0)\n",
    "y_clean = [label2idx[x] for x in y_clean]\n",
    "\n",
    "# preparing test-other\n",
    "X_other, y_other, _ = data_features(test_other_files, speakers, max_files_per_speaker=None,\n",
    "                                                sr=24000, max_sig_duration=2)\n",
    "X_other = np.stack([x.flatten() for x in X_other], axis=0)\n",
    "y_other = [label2idx[x] for x in y_other]"
   ],
   "metadata": {
    "collapsed": false
   }
  },
  {
   "cell_type": "code",
   "execution_count": 7,
   "outputs": [],
   "source": [
    "svm_model = pickle.load(open('../models/svm.pkl', 'rb'))"
   ],
   "metadata": {
    "collapsed": false
   }
  },
  {
   "cell_type": "markdown",
   "source": [
    "Оценка качества на тестовом датасете без шума"
   ],
   "metadata": {
    "collapsed": false
   }
  },
  {
   "cell_type": "code",
   "execution_count": 8,
   "outputs": [
    {
     "name": "stdout",
     "output_type": "stream",
     "text": [
      "              precision    recall  f1-score   support\n",
      "\n",
      "           0       0.97      0.89      0.93      1907\n",
      "           1       0.93      0.98      0.96      2930\n",
      "\n",
      "    accuracy                           0.95      4837\n",
      "   macro avg       0.95      0.94      0.94      4837\n",
      "weighted avg       0.95      0.95      0.95      4837\n",
      "\n"
     ]
    }
   ],
   "source": [
    "clean_preds = svm_model.predict(X_clean)\n",
    "print(classification_report(y_clean, clean_preds))"
   ],
   "metadata": {
    "collapsed": false
   }
  },
  {
   "cell_type": "markdown",
   "source": [
    "Оценка качества на тестовом датасете с возможным шумом"
   ],
   "metadata": {
    "collapsed": false
   }
  },
  {
   "cell_type": "code",
   "execution_count": 9,
   "outputs": [
    {
     "name": "stdout",
     "output_type": "stream",
     "text": [
      "              precision    recall  f1-score   support\n",
      "\n",
      "           0       0.98      0.71      0.82      2561\n",
      "           1       0.77      0.99      0.87      2559\n",
      "\n",
      "    accuracy                           0.85      5120\n",
      "   macro avg       0.88      0.85      0.85      5120\n",
      "weighted avg       0.88      0.85      0.85      5120\n",
      "\n"
     ]
    }
   ],
   "source": [
    "other_preds = svm_model.predict(X_other)\n",
    "print(classification_report(y_other, other_preds))"
   ],
   "metadata": {
    "collapsed": false
   }
  },
  {
   "cell_type": "markdown",
   "source": [
    "Как и ожидалось, на данных, где появляется шум, модель справляется хуже - качество падает с 0.95 до 0.85.\n",
    "\n",
    "Еще интересно посмотреть, какие записи плохо классифицировались."
   ],
   "metadata": {
    "collapsed": false
   }
  },
  {
   "cell_type": "code",
   "execution_count": 10,
   "outputs": [],
   "source": [
    "test_clean_speakers = speakers[speakers['subset'] == 'test-clean'].copy()\n",
    "\n",
    "# id говорящих, кол-во неправильно классифицированных записей (для датасета clean)\n",
    "right_preds = np.unique(np.array(ids)[clean_preds == y_clean], return_counts=True)\n",
    "# id говорящих, кол-во правильно классифицированных записей (для датасета clean)\n",
    "wrong_preds = np.unique(np.array(ids)[clean_preds != y_clean], return_counts=True)\n",
    "\n",
    "test_clean_speakers['right_preds'] = test_clean_speakers['id'].apply(lambda x: int(*right_preds[1][right_preds[0] == str(x)]))\n",
    "test_clean_speakers['wrong_preds'] = test_clean_speakers['id'].apply(lambda x: int(*wrong_preds[1][wrong_preds[0] == str(x)]))\n",
    "\n",
    "test_clean_speakers['predicted_label'] = test_clean_speakers.apply(lambda x : label2idx[x.gender] if x.right_preds > x.wrong_preds else {'M':1, 'F':0}[x.gender], axis=1)\n",
    "test_clean_speakers['true_label'] = test_clean_speakers.apply(lambda x: int(label2idx[x.gender]), axis=1)\n",
    "\n",
    "test_clean_speakers = test_clean_speakers[(test_clean_speakers['right_preds'] + test_clean_speakers['wrong_preds']) > 0]"
   ],
   "metadata": {
    "collapsed": false
   }
  },
  {
   "cell_type": "code",
   "execution_count": 11,
   "outputs": [
    {
     "data": {
      "text/plain": "        id gender      subset                    name  right_preds  \\\n33      61      M  test-clean     Paul-Gabriel Wiener            1   \n70     121      F  test-clean          Nikolle Doolin           87   \n125    237      F  test-clean             rachelellen          279   \n141    260      M  test-clean               Brad Bush          190   \n286    672      M  test-clean    Taylor Burton-Edward            1   \n358    908      M  test-clean             Sam Stinson           26   \n415   1089      M  test-clean             Peter Bobbe          173   \n444   1188      M  test-clean          Duncan Murrell           47   \n448   1221      F  test-clean                  Dianne            7   \n474   1284      F  test-clean            Daniel Anaya           73   \n483   1320      M  test-clean                 number6           94   \n563   1580      F  test-clean               TinyPines          341   \n704   1995      F  test-clean             AJai Hilton          126   \n796   2300      M  test-clean      Mitchell L Leopard          140   \n919   2830      M  test-clean             Tim Perkins           76   \n941   2961      F  test-clean                    Leni           85   \n1101  3570      F  test-clean                   sarac          188   \n1103  3575      F  test-clean               supergirl           45   \n1139  3729      F  test-clean           Heather Hogan           28   \n1234  4077      M  test-clean          Nathan Markham           65   \n1333  4446      F  test-clean             Jen Maxwell          348   \n1345  4507      F  test-clean     Rachel Nelson-Smith           91   \n1447  4970      F  test-clean            airandwaters          163   \n1451  4992      F  test-clean            Joyce Martin          118   \n1482  5105      M  test-clean                elongman           45   \n1492  5142      F  test-clean  Mary Ballard-Johansson          152   \n1598  5639      M  test-clean           Ulf Bjorklund           76   \n1612  5683      F  test-clean         Rachael Lapidis          201   \n1932  6829      F  test-clean                 LadyBug          210   \n1958  6930      M  test-clean              Nolan Fout           15   \n1983  7021      M  test-clean                 Nodo420          126   \n2012  7127      M  test-clean           Bill Kneeland          116   \n2028  7176      M  test-clean                 KalenXI          169   \n2185  7729      M  test-clean               Tim Bower           97   \n2326  8224      M  test-clean          Leanne Kinkopf           26   \n2330  8230      M  test-clean           David Jenkins          120   \n2389  8455      M  test-clean               thecheops           95   \n2392  8463      F  test-clean             Michele Fry          157   \n2414  8555      F  test-clean          Michelle Goode          179   \n\n      wrong_preds  predicted_label  true_label  \n33              0                0           0  \n70             18                1           1  \n125             0                1           1  \n141            30                0           0  \n286             8                1           0  \n358             4                0           0  \n415            17                0           0  \n444             1                0           0  \n448             0                1           1  \n474             7                1           1  \n483             4                0           0  \n563             0                1           1  \n704            11                1           1  \n796             1                0           0  \n919             7                0           0  \n941             1                1           1  \n1101            0                1           1  \n1103            0                1           1  \n1139            1                1           1  \n1234            2                0           0  \n1333            7                1           1  \n1345            0                1           1  \n1447            0                1           1  \n1451            0                1           1  \n1482           24                0           0  \n1492            0                1           1  \n1598            8                0           0  \n1612            0                1           1  \n1932            3                1           1  \n1958           44                1           0  \n1983            2                0           0  \n2012           45                0           0  \n2028            3                0           0  \n2185            0                0           0  \n2326            3                0           0  \n2330            0                0           0  \n2389            6                0           0  \n2392            4                1           1  \n2414            0                1           1  ",
      "text/html": "<div>\n<style scoped>\n    .dataframe tbody tr th:only-of-type {\n        vertical-align: middle;\n    }\n\n    .dataframe tbody tr th {\n        vertical-align: top;\n    }\n\n    .dataframe thead th {\n        text-align: right;\n    }\n</style>\n<table border=\"1\" class=\"dataframe\">\n  <thead>\n    <tr style=\"text-align: right;\">\n      <th></th>\n      <th>id</th>\n      <th>gender</th>\n      <th>subset</th>\n      <th>name</th>\n      <th>right_preds</th>\n      <th>wrong_preds</th>\n      <th>predicted_label</th>\n      <th>true_label</th>\n    </tr>\n  </thead>\n  <tbody>\n    <tr>\n      <th>33</th>\n      <td>61</td>\n      <td>M</td>\n      <td>test-clean</td>\n      <td>Paul-Gabriel Wiener</td>\n      <td>1</td>\n      <td>0</td>\n      <td>0</td>\n      <td>0</td>\n    </tr>\n    <tr>\n      <th>70</th>\n      <td>121</td>\n      <td>F</td>\n      <td>test-clean</td>\n      <td>Nikolle Doolin</td>\n      <td>87</td>\n      <td>18</td>\n      <td>1</td>\n      <td>1</td>\n    </tr>\n    <tr>\n      <th>125</th>\n      <td>237</td>\n      <td>F</td>\n      <td>test-clean</td>\n      <td>rachelellen</td>\n      <td>279</td>\n      <td>0</td>\n      <td>1</td>\n      <td>1</td>\n    </tr>\n    <tr>\n      <th>141</th>\n      <td>260</td>\n      <td>M</td>\n      <td>test-clean</td>\n      <td>Brad Bush</td>\n      <td>190</td>\n      <td>30</td>\n      <td>0</td>\n      <td>0</td>\n    </tr>\n    <tr>\n      <th>286</th>\n      <td>672</td>\n      <td>M</td>\n      <td>test-clean</td>\n      <td>Taylor Burton-Edward</td>\n      <td>1</td>\n      <td>8</td>\n      <td>1</td>\n      <td>0</td>\n    </tr>\n    <tr>\n      <th>358</th>\n      <td>908</td>\n      <td>M</td>\n      <td>test-clean</td>\n      <td>Sam Stinson</td>\n      <td>26</td>\n      <td>4</td>\n      <td>0</td>\n      <td>0</td>\n    </tr>\n    <tr>\n      <th>415</th>\n      <td>1089</td>\n      <td>M</td>\n      <td>test-clean</td>\n      <td>Peter Bobbe</td>\n      <td>173</td>\n      <td>17</td>\n      <td>0</td>\n      <td>0</td>\n    </tr>\n    <tr>\n      <th>444</th>\n      <td>1188</td>\n      <td>M</td>\n      <td>test-clean</td>\n      <td>Duncan Murrell</td>\n      <td>47</td>\n      <td>1</td>\n      <td>0</td>\n      <td>0</td>\n    </tr>\n    <tr>\n      <th>448</th>\n      <td>1221</td>\n      <td>F</td>\n      <td>test-clean</td>\n      <td>Dianne</td>\n      <td>7</td>\n      <td>0</td>\n      <td>1</td>\n      <td>1</td>\n    </tr>\n    <tr>\n      <th>474</th>\n      <td>1284</td>\n      <td>F</td>\n      <td>test-clean</td>\n      <td>Daniel Anaya</td>\n      <td>73</td>\n      <td>7</td>\n      <td>1</td>\n      <td>1</td>\n    </tr>\n    <tr>\n      <th>483</th>\n      <td>1320</td>\n      <td>M</td>\n      <td>test-clean</td>\n      <td>number6</td>\n      <td>94</td>\n      <td>4</td>\n      <td>0</td>\n      <td>0</td>\n    </tr>\n    <tr>\n      <th>563</th>\n      <td>1580</td>\n      <td>F</td>\n      <td>test-clean</td>\n      <td>TinyPines</td>\n      <td>341</td>\n      <td>0</td>\n      <td>1</td>\n      <td>1</td>\n    </tr>\n    <tr>\n      <th>704</th>\n      <td>1995</td>\n      <td>F</td>\n      <td>test-clean</td>\n      <td>AJai Hilton</td>\n      <td>126</td>\n      <td>11</td>\n      <td>1</td>\n      <td>1</td>\n    </tr>\n    <tr>\n      <th>796</th>\n      <td>2300</td>\n      <td>M</td>\n      <td>test-clean</td>\n      <td>Mitchell L Leopard</td>\n      <td>140</td>\n      <td>1</td>\n      <td>0</td>\n      <td>0</td>\n    </tr>\n    <tr>\n      <th>919</th>\n      <td>2830</td>\n      <td>M</td>\n      <td>test-clean</td>\n      <td>Tim Perkins</td>\n      <td>76</td>\n      <td>7</td>\n      <td>0</td>\n      <td>0</td>\n    </tr>\n    <tr>\n      <th>941</th>\n      <td>2961</td>\n      <td>F</td>\n      <td>test-clean</td>\n      <td>Leni</td>\n      <td>85</td>\n      <td>1</td>\n      <td>1</td>\n      <td>1</td>\n    </tr>\n    <tr>\n      <th>1101</th>\n      <td>3570</td>\n      <td>F</td>\n      <td>test-clean</td>\n      <td>sarac</td>\n      <td>188</td>\n      <td>0</td>\n      <td>1</td>\n      <td>1</td>\n    </tr>\n    <tr>\n      <th>1103</th>\n      <td>3575</td>\n      <td>F</td>\n      <td>test-clean</td>\n      <td>supergirl</td>\n      <td>45</td>\n      <td>0</td>\n      <td>1</td>\n      <td>1</td>\n    </tr>\n    <tr>\n      <th>1139</th>\n      <td>3729</td>\n      <td>F</td>\n      <td>test-clean</td>\n      <td>Heather Hogan</td>\n      <td>28</td>\n      <td>1</td>\n      <td>1</td>\n      <td>1</td>\n    </tr>\n    <tr>\n      <th>1234</th>\n      <td>4077</td>\n      <td>M</td>\n      <td>test-clean</td>\n      <td>Nathan Markham</td>\n      <td>65</td>\n      <td>2</td>\n      <td>0</td>\n      <td>0</td>\n    </tr>\n    <tr>\n      <th>1333</th>\n      <td>4446</td>\n      <td>F</td>\n      <td>test-clean</td>\n      <td>Jen Maxwell</td>\n      <td>348</td>\n      <td>7</td>\n      <td>1</td>\n      <td>1</td>\n    </tr>\n    <tr>\n      <th>1345</th>\n      <td>4507</td>\n      <td>F</td>\n      <td>test-clean</td>\n      <td>Rachel Nelson-Smith</td>\n      <td>91</td>\n      <td>0</td>\n      <td>1</td>\n      <td>1</td>\n    </tr>\n    <tr>\n      <th>1447</th>\n      <td>4970</td>\n      <td>F</td>\n      <td>test-clean</td>\n      <td>airandwaters</td>\n      <td>163</td>\n      <td>0</td>\n      <td>1</td>\n      <td>1</td>\n    </tr>\n    <tr>\n      <th>1451</th>\n      <td>4992</td>\n      <td>F</td>\n      <td>test-clean</td>\n      <td>Joyce Martin</td>\n      <td>118</td>\n      <td>0</td>\n      <td>1</td>\n      <td>1</td>\n    </tr>\n    <tr>\n      <th>1482</th>\n      <td>5105</td>\n      <td>M</td>\n      <td>test-clean</td>\n      <td>elongman</td>\n      <td>45</td>\n      <td>24</td>\n      <td>0</td>\n      <td>0</td>\n    </tr>\n    <tr>\n      <th>1492</th>\n      <td>5142</td>\n      <td>F</td>\n      <td>test-clean</td>\n      <td>Mary Ballard-Johansson</td>\n      <td>152</td>\n      <td>0</td>\n      <td>1</td>\n      <td>1</td>\n    </tr>\n    <tr>\n      <th>1598</th>\n      <td>5639</td>\n      <td>M</td>\n      <td>test-clean</td>\n      <td>Ulf Bjorklund</td>\n      <td>76</td>\n      <td>8</td>\n      <td>0</td>\n      <td>0</td>\n    </tr>\n    <tr>\n      <th>1612</th>\n      <td>5683</td>\n      <td>F</td>\n      <td>test-clean</td>\n      <td>Rachael Lapidis</td>\n      <td>201</td>\n      <td>0</td>\n      <td>1</td>\n      <td>1</td>\n    </tr>\n    <tr>\n      <th>1932</th>\n      <td>6829</td>\n      <td>F</td>\n      <td>test-clean</td>\n      <td>LadyBug</td>\n      <td>210</td>\n      <td>3</td>\n      <td>1</td>\n      <td>1</td>\n    </tr>\n    <tr>\n      <th>1958</th>\n      <td>6930</td>\n      <td>M</td>\n      <td>test-clean</td>\n      <td>Nolan Fout</td>\n      <td>15</td>\n      <td>44</td>\n      <td>1</td>\n      <td>0</td>\n    </tr>\n    <tr>\n      <th>1983</th>\n      <td>7021</td>\n      <td>M</td>\n      <td>test-clean</td>\n      <td>Nodo420</td>\n      <td>126</td>\n      <td>2</td>\n      <td>0</td>\n      <td>0</td>\n    </tr>\n    <tr>\n      <th>2012</th>\n      <td>7127</td>\n      <td>M</td>\n      <td>test-clean</td>\n      <td>Bill Kneeland</td>\n      <td>116</td>\n      <td>45</td>\n      <td>0</td>\n      <td>0</td>\n    </tr>\n    <tr>\n      <th>2028</th>\n      <td>7176</td>\n      <td>M</td>\n      <td>test-clean</td>\n      <td>KalenXI</td>\n      <td>169</td>\n      <td>3</td>\n      <td>0</td>\n      <td>0</td>\n    </tr>\n    <tr>\n      <th>2185</th>\n      <td>7729</td>\n      <td>M</td>\n      <td>test-clean</td>\n      <td>Tim Bower</td>\n      <td>97</td>\n      <td>0</td>\n      <td>0</td>\n      <td>0</td>\n    </tr>\n    <tr>\n      <th>2326</th>\n      <td>8224</td>\n      <td>M</td>\n      <td>test-clean</td>\n      <td>Leanne Kinkopf</td>\n      <td>26</td>\n      <td>3</td>\n      <td>0</td>\n      <td>0</td>\n    </tr>\n    <tr>\n      <th>2330</th>\n      <td>8230</td>\n      <td>M</td>\n      <td>test-clean</td>\n      <td>David Jenkins</td>\n      <td>120</td>\n      <td>0</td>\n      <td>0</td>\n      <td>0</td>\n    </tr>\n    <tr>\n      <th>2389</th>\n      <td>8455</td>\n      <td>M</td>\n      <td>test-clean</td>\n      <td>thecheops</td>\n      <td>95</td>\n      <td>6</td>\n      <td>0</td>\n      <td>0</td>\n    </tr>\n    <tr>\n      <th>2392</th>\n      <td>8463</td>\n      <td>F</td>\n      <td>test-clean</td>\n      <td>Michele Fry</td>\n      <td>157</td>\n      <td>4</td>\n      <td>1</td>\n      <td>1</td>\n    </tr>\n    <tr>\n      <th>2414</th>\n      <td>8555</td>\n      <td>F</td>\n      <td>test-clean</td>\n      <td>Michelle Goode</td>\n      <td>179</td>\n      <td>0</td>\n      <td>1</td>\n      <td>1</td>\n    </tr>\n  </tbody>\n</table>\n</div>"
     },
     "execution_count": 11,
     "metadata": {},
     "output_type": "execute_result"
    }
   ],
   "source": [
    "test_clean_speakers"
   ],
   "metadata": {
    "collapsed": false
   }
  },
  {
   "cell_type": "markdown",
   "source": [
    "Можно так же посмотреть на метрики классификации по говорящим,  а не по их речам (считаю, что если больше речей одного говорящего получило правильную метку класса, то классификация правильная, если больше речей за другую метку класса - неправильная)."
   ],
   "metadata": {
    "collapsed": false
   }
  },
  {
   "cell_type": "code",
   "execution_count": 12,
   "outputs": [
    {
     "name": "stdout",
     "output_type": "stream",
     "text": [
      "              precision    recall  f1-score   support\n",
      "\n",
      "           0       1.00      0.90      0.95        20\n",
      "           1       0.90      1.00      0.95        19\n",
      "\n",
      "    accuracy                           0.95        39\n",
      "   macro avg       0.95      0.95      0.95        39\n",
      "weighted avg       0.95      0.95      0.95        39\n",
      "\n"
     ]
    }
   ],
   "source": [
    "print(classification_report(test_clean_speakers['true_label'], test_clean_speakers['predicted_label']))"
   ],
   "metadata": {
    "collapsed": false
   }
  },
  {
   "cell_type": "markdown",
   "source": [
    "Получается, что на самом деле, для большинства людей, в целом, их пол был классифицирован верно (кроме двух мужчин).\n",
    "\n",
    "Послушав некоторые плохо классифицированных говорящих, появились небольшие догадки, почему так произошло. Кажется, что, например, ошибки в классификации мужских голосов чаще происходят для говорящих, у которых голоса чуть повыше, чем у других (хотя для меня на слух они все равно 100% мужские)."
   ],
   "metadata": {
    "collapsed": false
   }
  },
  {
   "cell_type": "markdown",
   "source": [
    "### VGG-16"
   ],
   "metadata": {
    "collapsed": false
   }
  },
  {
   "cell_type": "code",
   "execution_count": 13,
   "outputs": [],
   "source": [
    "from src.train_cnn import AudioDataset, VGG"
   ],
   "metadata": {
    "collapsed": false
   }
  },
  {
   "cell_type": "code",
   "execution_count": 14,
   "outputs": [
    {
     "data": {
      "text/plain": "<All keys matched successfully>"
     },
     "execution_count": 14,
     "metadata": {},
     "output_type": "execute_result"
    }
   ],
   "source": [
    "import torch\n",
    "\n",
    "model = VGG('VGG16')\n",
    "model.load_state_dict(torch.load('../models/vgg16.pkl'))"
   ],
   "metadata": {
    "collapsed": false
   }
  },
  {
   "cell_type": "code",
   "execution_count": 15,
   "outputs": [
    {
     "name": "stderr",
     "output_type": "stream",
     "text": [
      "100%|██████████| 39/39 [00:23<00:00,  1.63it/s]\n",
      "100%|██████████| 33/33 [00:29<00:00,  1.13it/s]\n"
     ]
    }
   ],
   "source": [
    "test_clean_data = AudioDataset('../data/dev-clean/LibriTTS/speakers.tsv', test_clean_path)\n",
    "test_other_data = AudioDataset('../data/dev-clean/LibriTTS/speakers.tsv', test_other_path)"
   ],
   "metadata": {
    "collapsed": false
   }
  },
  {
   "cell_type": "code",
   "execution_count": 16,
   "outputs": [],
   "source": [
    "model.eval()\n",
    "device=torch.device('cuda')\n",
    "model.to(device)\n",
    "\n",
    "# creating dataloaders for  both test sets\n",
    "clean_dataloader = torch.utils.data.DataLoader(test_clean_data, batch_size=32, shuffle=False)\n",
    "other_dataloader = torch.utils.data.DataLoader(test_other_data, batch_size=32, shuffle=False)\n",
    "\n",
    "clean_preds = []\n",
    "other_preds = []\n",
    "\n",
    "# model predictions\n",
    "for X, y in clean_dataloader:\n",
    "    X = X.to(device)\n",
    "    probas = model(X).cpu().detach().numpy()\n",
    "    clean_preds.extend(probas.flatten().tolist())\n",
    "\n",
    "for X, y in other_dataloader:\n",
    "    X = X.to(device)\n",
    "    probas = model(X).cpu().detach().numpy()\n",
    "    other_preds.extend(probas.flatten().tolist())"
   ],
   "metadata": {
    "collapsed": false
   }
  },
  {
   "cell_type": "markdown",
   "source": [
    "Результаты для тестовой выборки без шума"
   ],
   "metadata": {
    "collapsed": false
   }
  },
  {
   "cell_type": "code",
   "execution_count": 17,
   "outputs": [
    {
     "name": "stdout",
     "output_type": "stream",
     "text": [
      "              precision    recall  f1-score   support\n",
      "\n",
      "           0       0.93      0.99      0.96      1907\n",
      "           1       0.99      0.95      0.97      2930\n",
      "\n",
      "    accuracy                           0.97      4837\n",
      "   macro avg       0.96      0.97      0.96      4837\n",
      "weighted avg       0.97      0.97      0.97      4837\n",
      "\n"
     ]
    }
   ],
   "source": [
    "print(classification_report(test_clean_data.y, [round(x) for x in clean_preds]))"
   ],
   "metadata": {
    "collapsed": false
   }
  },
  {
   "cell_type": "markdown",
   "source": [
    "Результаты для тестовой выборки с возможным шумом"
   ],
   "metadata": {
    "collapsed": false
   }
  },
  {
   "cell_type": "code",
   "execution_count": 18,
   "outputs": [
    {
     "name": "stdout",
     "output_type": "stream",
     "text": [
      "              precision    recall  f1-score   support\n",
      "\n",
      "           0       0.97      0.89      0.93      2561\n",
      "           1       0.90      0.97      0.93      2559\n",
      "\n",
      "    accuracy                           0.93      5120\n",
      "   macro avg       0.93      0.93      0.93      5120\n",
      "weighted avg       0.93      0.93      0.93      5120\n",
      "\n"
     ]
    }
   ],
   "source": [
    "print(classification_report(test_other_data.y, [round(x) for x in other_preds]))"
   ],
   "metadata": {
    "collapsed": false
   }
  },
  {
   "cell_type": "markdown",
   "source": [
    "VGG-16 немного лучше работает, чем SVM, на данных без шума (0.97 против 0.95). И значительно лучше на данных, где вероятно есть шум - 0.93 по сравнению с 0.85."
   ],
   "metadata": {
    "collapsed": false
   }
  },
  {
   "cell_type": "markdown",
   "source": [
    "Опять-таки можно посмотреть на предсказания по говорящим. Опять сделаем это лишь для данных без шума"
   ],
   "metadata": {
    "collapsed": false
   }
  },
  {
   "cell_type": "code",
   "execution_count": 19,
   "outputs": [],
   "source": [
    "test_clean_speakers = speakers[speakers['subset'] == 'test-clean'].copy()\n",
    "ids = test_clean_data.ids\n",
    "\n",
    "# id говорящих, кол-во неправильно классифицированных записей (для датасета clean)\n",
    "right_preds = np.unique(np.array(ids)[np.array([round(x) for x in clean_preds]) == test_clean_data.y], return_counts=True)\n",
    "# id говорящих, кол-во правильно классифицированных записей (для датасета clean)\n",
    "wrong_preds = np.unique(np.array(ids)[np.array([round(x) for x in clean_preds]) != test_clean_data.y], return_counts=True)\n",
    "\n",
    "test_clean_speakers['right_preds'] = test_clean_speakers['id'].apply(lambda x: int(*right_preds[1][right_preds[0] == str(x)]))\n",
    "test_clean_speakers['wrong_preds'] = test_clean_speakers['id'].apply(lambda x: int(*wrong_preds[1][wrong_preds[0] == str(x)]))\n",
    "\n",
    "test_clean_speakers['predicted_label'] = test_clean_speakers.apply(lambda x : label2idx[x.gender] if x.right_preds > x.wrong_preds else {'M':1, 'F':0}[x.gender], axis=1)\n",
    "test_clean_speakers['true_label'] = test_clean_speakers.apply(lambda x: int(label2idx[x.gender]), axis=1)\n",
    "\n",
    "test_clean_speakers = test_clean_speakers[(test_clean_speakers['right_preds'] + test_clean_speakers['wrong_preds']) > 0]"
   ],
   "metadata": {
    "collapsed": false
   }
  },
  {
   "cell_type": "code",
   "execution_count": 20,
   "outputs": [
    {
     "data": {
      "text/plain": "        id gender      subset                    name  right_preds  \\\n33      61      M  test-clean     Paul-Gabriel Wiener            1   \n70     121      F  test-clean          Nikolle Doolin           93   \n125    237      F  test-clean             rachelellen          279   \n141    260      M  test-clean               Brad Bush          213   \n286    672      M  test-clean    Taylor Burton-Edward            7   \n358    908      M  test-clean             Sam Stinson           30   \n415   1089      M  test-clean             Peter Bobbe          188   \n444   1188      M  test-clean          Duncan Murrell           48   \n448   1221      F  test-clean                  Dianne            7   \n474   1284      F  test-clean            Daniel Anaya           57   \n483   1320      M  test-clean                 number6           97   \n563   1580      F  test-clean               TinyPines          340   \n704   1995      F  test-clean             AJai Hilton          122   \n796   2300      M  test-clean      Mitchell L Leopard          141   \n919   2830      M  test-clean             Tim Perkins           79   \n941   2961      F  test-clean                    Leni           61   \n1101  3570      F  test-clean                   sarac          188   \n1103  3575      F  test-clean               supergirl           45   \n1139  3729      F  test-clean           Heather Hogan           23   \n1234  4077      M  test-clean          Nathan Markham           67   \n1333  4446      F  test-clean             Jen Maxwell          342   \n1345  4507      F  test-clean     Rachel Nelson-Smith           91   \n1447  4970      F  test-clean            airandwaters          163   \n1451  4992      F  test-clean            Joyce Martin          112   \n1482  5105      M  test-clean                elongman           69   \n1492  5142      F  test-clean  Mary Ballard-Johansson          139   \n1598  5639      M  test-clean           Ulf Bjorklund           81   \n1612  5683      F  test-clean         Rachael Lapidis          200   \n1932  6829      F  test-clean                 LadyBug          212   \n1958  6930      M  test-clean              Nolan Fout           59   \n1983  7021      M  test-clean                 Nodo420          128   \n2012  7127      M  test-clean           Bill Kneeland          160   \n2028  7176      M  test-clean                 KalenXI          171   \n2185  7729      M  test-clean               Tim Bower           97   \n2326  8224      M  test-clean          Leanne Kinkopf           29   \n2330  8230      M  test-clean           David Jenkins          120   \n2389  8455      M  test-clean               thecheops          101   \n2392  8463      F  test-clean             Michele Fry          136   \n2414  8555      F  test-clean          Michelle Goode          172   \n\n      wrong_preds  predicted_label  true_label  \n33              0                0           0  \n70             12                1           1  \n125             0                1           1  \n141             7                0           0  \n286             2                0           0  \n358             0                0           0  \n415             2                0           0  \n444             0                0           0  \n448             0                1           1  \n474            23                1           1  \n483             1                0           0  \n563             1                1           1  \n704            15                1           1  \n796             0                0           0  \n919             4                0           0  \n941            25                1           1  \n1101            0                1           1  \n1103            0                1           1  \n1139            6                1           1  \n1234            0                0           0  \n1333           13                1           1  \n1345            0                1           1  \n1447            0                1           1  \n1451            6                1           1  \n1482            0                0           0  \n1492           13                1           1  \n1598            3                0           0  \n1612            1                1           1  \n1932            1                1           1  \n1958            0                0           0  \n1983            0                0           0  \n2012            1                0           0  \n2028            1                0           0  \n2185            0                0           0  \n2326            0                0           0  \n2330            0                0           0  \n2389            0                0           0  \n2392           25                1           1  \n2414            7                1           1  ",
      "text/html": "<div>\n<style scoped>\n    .dataframe tbody tr th:only-of-type {\n        vertical-align: middle;\n    }\n\n    .dataframe tbody tr th {\n        vertical-align: top;\n    }\n\n    .dataframe thead th {\n        text-align: right;\n    }\n</style>\n<table border=\"1\" class=\"dataframe\">\n  <thead>\n    <tr style=\"text-align: right;\">\n      <th></th>\n      <th>id</th>\n      <th>gender</th>\n      <th>subset</th>\n      <th>name</th>\n      <th>right_preds</th>\n      <th>wrong_preds</th>\n      <th>predicted_label</th>\n      <th>true_label</th>\n    </tr>\n  </thead>\n  <tbody>\n    <tr>\n      <th>33</th>\n      <td>61</td>\n      <td>M</td>\n      <td>test-clean</td>\n      <td>Paul-Gabriel Wiener</td>\n      <td>1</td>\n      <td>0</td>\n      <td>0</td>\n      <td>0</td>\n    </tr>\n    <tr>\n      <th>70</th>\n      <td>121</td>\n      <td>F</td>\n      <td>test-clean</td>\n      <td>Nikolle Doolin</td>\n      <td>93</td>\n      <td>12</td>\n      <td>1</td>\n      <td>1</td>\n    </tr>\n    <tr>\n      <th>125</th>\n      <td>237</td>\n      <td>F</td>\n      <td>test-clean</td>\n      <td>rachelellen</td>\n      <td>279</td>\n      <td>0</td>\n      <td>1</td>\n      <td>1</td>\n    </tr>\n    <tr>\n      <th>141</th>\n      <td>260</td>\n      <td>M</td>\n      <td>test-clean</td>\n      <td>Brad Bush</td>\n      <td>213</td>\n      <td>7</td>\n      <td>0</td>\n      <td>0</td>\n    </tr>\n    <tr>\n      <th>286</th>\n      <td>672</td>\n      <td>M</td>\n      <td>test-clean</td>\n      <td>Taylor Burton-Edward</td>\n      <td>7</td>\n      <td>2</td>\n      <td>0</td>\n      <td>0</td>\n    </tr>\n    <tr>\n      <th>358</th>\n      <td>908</td>\n      <td>M</td>\n      <td>test-clean</td>\n      <td>Sam Stinson</td>\n      <td>30</td>\n      <td>0</td>\n      <td>0</td>\n      <td>0</td>\n    </tr>\n    <tr>\n      <th>415</th>\n      <td>1089</td>\n      <td>M</td>\n      <td>test-clean</td>\n      <td>Peter Bobbe</td>\n      <td>188</td>\n      <td>2</td>\n      <td>0</td>\n      <td>0</td>\n    </tr>\n    <tr>\n      <th>444</th>\n      <td>1188</td>\n      <td>M</td>\n      <td>test-clean</td>\n      <td>Duncan Murrell</td>\n      <td>48</td>\n      <td>0</td>\n      <td>0</td>\n      <td>0</td>\n    </tr>\n    <tr>\n      <th>448</th>\n      <td>1221</td>\n      <td>F</td>\n      <td>test-clean</td>\n      <td>Dianne</td>\n      <td>7</td>\n      <td>0</td>\n      <td>1</td>\n      <td>1</td>\n    </tr>\n    <tr>\n      <th>474</th>\n      <td>1284</td>\n      <td>F</td>\n      <td>test-clean</td>\n      <td>Daniel Anaya</td>\n      <td>57</td>\n      <td>23</td>\n      <td>1</td>\n      <td>1</td>\n    </tr>\n    <tr>\n      <th>483</th>\n      <td>1320</td>\n      <td>M</td>\n      <td>test-clean</td>\n      <td>number6</td>\n      <td>97</td>\n      <td>1</td>\n      <td>0</td>\n      <td>0</td>\n    </tr>\n    <tr>\n      <th>563</th>\n      <td>1580</td>\n      <td>F</td>\n      <td>test-clean</td>\n      <td>TinyPines</td>\n      <td>340</td>\n      <td>1</td>\n      <td>1</td>\n      <td>1</td>\n    </tr>\n    <tr>\n      <th>704</th>\n      <td>1995</td>\n      <td>F</td>\n      <td>test-clean</td>\n      <td>AJai Hilton</td>\n      <td>122</td>\n      <td>15</td>\n      <td>1</td>\n      <td>1</td>\n    </tr>\n    <tr>\n      <th>796</th>\n      <td>2300</td>\n      <td>M</td>\n      <td>test-clean</td>\n      <td>Mitchell L Leopard</td>\n      <td>141</td>\n      <td>0</td>\n      <td>0</td>\n      <td>0</td>\n    </tr>\n    <tr>\n      <th>919</th>\n      <td>2830</td>\n      <td>M</td>\n      <td>test-clean</td>\n      <td>Tim Perkins</td>\n      <td>79</td>\n      <td>4</td>\n      <td>0</td>\n      <td>0</td>\n    </tr>\n    <tr>\n      <th>941</th>\n      <td>2961</td>\n      <td>F</td>\n      <td>test-clean</td>\n      <td>Leni</td>\n      <td>61</td>\n      <td>25</td>\n      <td>1</td>\n      <td>1</td>\n    </tr>\n    <tr>\n      <th>1101</th>\n      <td>3570</td>\n      <td>F</td>\n      <td>test-clean</td>\n      <td>sarac</td>\n      <td>188</td>\n      <td>0</td>\n      <td>1</td>\n      <td>1</td>\n    </tr>\n    <tr>\n      <th>1103</th>\n      <td>3575</td>\n      <td>F</td>\n      <td>test-clean</td>\n      <td>supergirl</td>\n      <td>45</td>\n      <td>0</td>\n      <td>1</td>\n      <td>1</td>\n    </tr>\n    <tr>\n      <th>1139</th>\n      <td>3729</td>\n      <td>F</td>\n      <td>test-clean</td>\n      <td>Heather Hogan</td>\n      <td>23</td>\n      <td>6</td>\n      <td>1</td>\n      <td>1</td>\n    </tr>\n    <tr>\n      <th>1234</th>\n      <td>4077</td>\n      <td>M</td>\n      <td>test-clean</td>\n      <td>Nathan Markham</td>\n      <td>67</td>\n      <td>0</td>\n      <td>0</td>\n      <td>0</td>\n    </tr>\n    <tr>\n      <th>1333</th>\n      <td>4446</td>\n      <td>F</td>\n      <td>test-clean</td>\n      <td>Jen Maxwell</td>\n      <td>342</td>\n      <td>13</td>\n      <td>1</td>\n      <td>1</td>\n    </tr>\n    <tr>\n      <th>1345</th>\n      <td>4507</td>\n      <td>F</td>\n      <td>test-clean</td>\n      <td>Rachel Nelson-Smith</td>\n      <td>91</td>\n      <td>0</td>\n      <td>1</td>\n      <td>1</td>\n    </tr>\n    <tr>\n      <th>1447</th>\n      <td>4970</td>\n      <td>F</td>\n      <td>test-clean</td>\n      <td>airandwaters</td>\n      <td>163</td>\n      <td>0</td>\n      <td>1</td>\n      <td>1</td>\n    </tr>\n    <tr>\n      <th>1451</th>\n      <td>4992</td>\n      <td>F</td>\n      <td>test-clean</td>\n      <td>Joyce Martin</td>\n      <td>112</td>\n      <td>6</td>\n      <td>1</td>\n      <td>1</td>\n    </tr>\n    <tr>\n      <th>1482</th>\n      <td>5105</td>\n      <td>M</td>\n      <td>test-clean</td>\n      <td>elongman</td>\n      <td>69</td>\n      <td>0</td>\n      <td>0</td>\n      <td>0</td>\n    </tr>\n    <tr>\n      <th>1492</th>\n      <td>5142</td>\n      <td>F</td>\n      <td>test-clean</td>\n      <td>Mary Ballard-Johansson</td>\n      <td>139</td>\n      <td>13</td>\n      <td>1</td>\n      <td>1</td>\n    </tr>\n    <tr>\n      <th>1598</th>\n      <td>5639</td>\n      <td>M</td>\n      <td>test-clean</td>\n      <td>Ulf Bjorklund</td>\n      <td>81</td>\n      <td>3</td>\n      <td>0</td>\n      <td>0</td>\n    </tr>\n    <tr>\n      <th>1612</th>\n      <td>5683</td>\n      <td>F</td>\n      <td>test-clean</td>\n      <td>Rachael Lapidis</td>\n      <td>200</td>\n      <td>1</td>\n      <td>1</td>\n      <td>1</td>\n    </tr>\n    <tr>\n      <th>1932</th>\n      <td>6829</td>\n      <td>F</td>\n      <td>test-clean</td>\n      <td>LadyBug</td>\n      <td>212</td>\n      <td>1</td>\n      <td>1</td>\n      <td>1</td>\n    </tr>\n    <tr>\n      <th>1958</th>\n      <td>6930</td>\n      <td>M</td>\n      <td>test-clean</td>\n      <td>Nolan Fout</td>\n      <td>59</td>\n      <td>0</td>\n      <td>0</td>\n      <td>0</td>\n    </tr>\n    <tr>\n      <th>1983</th>\n      <td>7021</td>\n      <td>M</td>\n      <td>test-clean</td>\n      <td>Nodo420</td>\n      <td>128</td>\n      <td>0</td>\n      <td>0</td>\n      <td>0</td>\n    </tr>\n    <tr>\n      <th>2012</th>\n      <td>7127</td>\n      <td>M</td>\n      <td>test-clean</td>\n      <td>Bill Kneeland</td>\n      <td>160</td>\n      <td>1</td>\n      <td>0</td>\n      <td>0</td>\n    </tr>\n    <tr>\n      <th>2028</th>\n      <td>7176</td>\n      <td>M</td>\n      <td>test-clean</td>\n      <td>KalenXI</td>\n      <td>171</td>\n      <td>1</td>\n      <td>0</td>\n      <td>0</td>\n    </tr>\n    <tr>\n      <th>2185</th>\n      <td>7729</td>\n      <td>M</td>\n      <td>test-clean</td>\n      <td>Tim Bower</td>\n      <td>97</td>\n      <td>0</td>\n      <td>0</td>\n      <td>0</td>\n    </tr>\n    <tr>\n      <th>2326</th>\n      <td>8224</td>\n      <td>M</td>\n      <td>test-clean</td>\n      <td>Leanne Kinkopf</td>\n      <td>29</td>\n      <td>0</td>\n      <td>0</td>\n      <td>0</td>\n    </tr>\n    <tr>\n      <th>2330</th>\n      <td>8230</td>\n      <td>M</td>\n      <td>test-clean</td>\n      <td>David Jenkins</td>\n      <td>120</td>\n      <td>0</td>\n      <td>0</td>\n      <td>0</td>\n    </tr>\n    <tr>\n      <th>2389</th>\n      <td>8455</td>\n      <td>M</td>\n      <td>test-clean</td>\n      <td>thecheops</td>\n      <td>101</td>\n      <td>0</td>\n      <td>0</td>\n      <td>0</td>\n    </tr>\n    <tr>\n      <th>2392</th>\n      <td>8463</td>\n      <td>F</td>\n      <td>test-clean</td>\n      <td>Michele Fry</td>\n      <td>136</td>\n      <td>25</td>\n      <td>1</td>\n      <td>1</td>\n    </tr>\n    <tr>\n      <th>2414</th>\n      <td>8555</td>\n      <td>F</td>\n      <td>test-clean</td>\n      <td>Michelle Goode</td>\n      <td>172</td>\n      <td>7</td>\n      <td>1</td>\n      <td>1</td>\n    </tr>\n  </tbody>\n</table>\n</div>"
     },
     "execution_count": 20,
     "metadata": {},
     "output_type": "execute_result"
    }
   ],
   "source": [
    "test_clean_speakers"
   ],
   "metadata": {
    "collapsed": false
   }
  },
  {
   "cell_type": "code",
   "execution_count": 21,
   "outputs": [
    {
     "data": {
      "text/plain": "Empty DataFrame\nColumns: [id, gender, subset, name, right_preds, wrong_preds, predicted_label, true_label]\nIndex: []",
      "text/html": "<div>\n<style scoped>\n    .dataframe tbody tr th:only-of-type {\n        vertical-align: middle;\n    }\n\n    .dataframe tbody tr th {\n        vertical-align: top;\n    }\n\n    .dataframe thead th {\n        text-align: right;\n    }\n</style>\n<table border=\"1\" class=\"dataframe\">\n  <thead>\n    <tr style=\"text-align: right;\">\n      <th></th>\n      <th>id</th>\n      <th>gender</th>\n      <th>subset</th>\n      <th>name</th>\n      <th>right_preds</th>\n      <th>wrong_preds</th>\n      <th>predicted_label</th>\n      <th>true_label</th>\n    </tr>\n  </thead>\n  <tbody>\n  </tbody>\n</table>\n</div>"
     },
     "execution_count": 21,
     "metadata": {},
     "output_type": "execute_result"
    }
   ],
   "source": [
    "test_clean_speakers[test_clean_speakers['predicted_label'] != test_clean_speakers['true_label']]"
   ],
   "metadata": {
    "collapsed": false
   }
  },
  {
   "cell_type": "markdown",
   "source": [
    "При такой оценке классификатора, результаты идеальные :) Для всех говорящих, VGG оценивает бОльшую часть речей правильной меткой пола."
   ],
   "metadata": {
    "collapsed": false
   }
  }
 ],
 "metadata": {
  "kernelspec": {
   "display_name": "Python 3",
   "language": "python",
   "name": "python3"
  },
  "language_info": {
   "codemirror_mode": {
    "name": "ipython",
    "version": 2
   },
   "file_extension": ".py",
   "mimetype": "text/x-python",
   "name": "python",
   "nbconvert_exporter": "python",
   "pygments_lexer": "ipython2",
   "version": "2.7.6"
  }
 },
 "nbformat": 4,
 "nbformat_minor": 0
}
