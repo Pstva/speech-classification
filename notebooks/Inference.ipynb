{
 "cells": [
  {
   "cell_type": "markdown",
   "source": [
    "# Применение обученных классификаторов для произвольного сигнала\n",
    "\n",
    "Далее, будет пример как применить модели для классификации какой-то речи. В папке data лежит небольшая запись моего голоса в формате wav - ее и попробуем классифицировать.\n"
   ],
   "metadata": {
    "collapsed": false
   }
  },
  {
   "cell_type": "code",
   "execution_count": 1,
   "outputs": [],
   "source": [
    "import librosa\n",
    "from src.inference import classify_gender"
   ],
   "metadata": {
    "collapsed": false
   }
  },
  {
   "cell_type": "code",
   "execution_count": 2,
   "outputs": [],
   "source": [
    "# загружаем звук\n",
    "sig_female, sr = librosa.load('../data/me.wav', sr=44100)"
   ],
   "metadata": {
    "collapsed": false
   }
  },
  {
   "cell_type": "code",
   "execution_count": 3,
   "outputs": [
    {
     "data": {
      "text/plain": "'F'"
     },
     "execution_count": 3,
     "metadata": {},
     "output_type": "execute_result"
    }
   ],
   "source": [
    "# классифицируем c svm\n",
    "# Функция classify_gender сама сделает resampling и обрежет/дополнит сигнал до 2 секунд, если нужно\n",
    "\n",
    "classify_gender(sig_female, sr=44100, model='svm')"
   ],
   "metadata": {
    "collapsed": false
   }
  },
  {
   "cell_type": "code",
   "execution_count": 4,
   "outputs": [
    {
     "data": {
      "text/plain": "'M'"
     },
     "execution_count": 4,
     "metadata": {},
     "output_type": "execute_result"
    }
   ],
   "source": [
    "# классифицируем с vgg\n",
    "classify_gender(sig_female, sr=44100, model='vgg')"
   ],
   "metadata": {
    "collapsed": false
   }
  },
  {
   "cell_type": "markdown",
   "source": [
    "В моем случае, SVM классифицировало мой голос правильно, а вот vgg нет.\n",
    "\n",
    "Теперь попробуем мужской голос."
   ],
   "metadata": {
    "collapsed": false
   }
  },
  {
   "cell_type": "code",
   "execution_count": 5,
   "outputs": [],
   "source": [
    "sig_male, sr = librosa.load('../data/male.wav', sr=44100)"
   ],
   "metadata": {
    "collapsed": false
   }
  },
  {
   "cell_type": "code",
   "execution_count": 6,
   "outputs": [
    {
     "data": {
      "text/plain": "'M'"
     },
     "execution_count": 6,
     "metadata": {},
     "output_type": "execute_result"
    }
   ],
   "source": [
    "# классифицируем c svm\n",
    "classify_gender(sig_male, sr=44100, model='svm')"
   ],
   "metadata": {
    "collapsed": false
   }
  },
  {
   "cell_type": "code",
   "execution_count": 7,
   "outputs": [
    {
     "data": {
      "text/plain": "'M'"
     },
     "execution_count": 7,
     "metadata": {},
     "output_type": "execute_result"
    }
   ],
   "source": [
    "# классифицируем с vgg\n",
    "classify_gender(sig_male, sr=44100, model='vgg')"
   ],
   "metadata": {
    "collapsed": false
   }
  },
  {
   "cell_type": "markdown",
   "source": [
    "Мужской голос распознался правильно обеими моделями :)"
   ],
   "metadata": {
    "collapsed": false
   }
  }
 ],
 "metadata": {
  "kernelspec": {
   "display_name": "Python 3",
   "language": "python",
   "name": "python3"
  },
  "language_info": {
   "codemirror_mode": {
    "name": "ipython",
    "version": 2
   },
   "file_extension": ".py",
   "mimetype": "text/x-python",
   "name": "python",
   "nbconvert_exporter": "python",
   "pygments_lexer": "ipython2",
   "version": "2.7.6"
  }
 },
 "nbformat": 4,
 "nbformat_minor": 0
}
